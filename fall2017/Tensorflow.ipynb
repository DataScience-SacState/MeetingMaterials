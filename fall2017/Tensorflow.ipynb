{
 "cells": [
  {
   "cell_type": "markdown",
   "metadata": {},
   "source": [
    "# Python / Tensorflow"
   ]
  },
  {
   "cell_type": "markdown",
   "metadata": {},
   "source": [
    "## Python in Summary\n",
    "Softly typed like R. No braces for scoping, instead whitespace has meaning."
   ]
  },
  {
   "cell_type": "code",
   "execution_count": 1,
   "metadata": {
    "collapsed": false
   },
   "outputs": [
    {
     "name": "stdout",
     "output_type": "stream",
     "text": [
      "x\n",
      "y\n",
      "z\n"
     ]
    }
   ],
   "source": [
    "def foo(x, y, z):\n",
    "    print(x)\n",
    "    print(y)\n",
    "    print(z)\n",
    "    \n",
    "myX = \"x\"\n",
    "myY = \"y\"\n",
    "myZ = \"z\"\n",
    "\n",
    "foo(myX, myY, myZ)"
   ]
  },
  {
   "cell_type": "markdown",
   "metadata": {},
   "source": [
    "### Structures\n",
    "Brief enumeration of Lists, Dicts, Sets, and Tuples. Check out the PyDocs for more extensive documentation."
   ]
  },
  {
   "cell_type": "code",
   "execution_count": 2,
   "metadata": {
    "collapsed": false
   },
   "outputs": [
    {
     "name": "stdout",
     "output_type": "stream",
     "text": [
      "[0, 1, 2, 3]\n",
      "[0, 1, 2, 3]\n",
      "{'c': 3, 'b': 2, 'a': 1}\n",
      "{0, 1, 2, 3}\n",
      "{0, 1, 2, 3}\n",
      "(0, 1)\n",
      "(0, 1, 2, 3)\n",
      "(0,)\n"
     ]
    }
   ],
   "source": [
    "# List literal\n",
    "print( [ 0, 1, 2, 3 ] )\n",
    "\n",
    "# Special list syntax.\n",
    "# Range is a generator function that you can iterate over\n",
    "print( [ i for i in range(0,4) ] )\n",
    "\n",
    "# Dict literal\n",
    "# Note: Key ordering is not guaranteed\n",
    "print( { \"a\": 1, \"b\": 2, \"c\": 3} )\n",
    "\n",
    "# Sets\n",
    "print( set([0, 1, 2, 3]) )\n",
    "\n",
    "# Note: if we use the special list syntax in curly braces, we get a set - not a dict\n",
    "print( {i for i in range(0,4)} )\n",
    "\n",
    "# Tuples\n",
    "# Much like a list\n",
    "print( (0, 1) )\n",
    "print( (0, 1, 2, 3))\n",
    "# To make a 1-tuple, the comma is required after the first item.\n",
    "# (Otherwise, it parses as a parenthesized expression).\n",
    "print( (0,) )"
   ]
  },
  {
   "cell_type": "markdown",
   "metadata": {},
   "source": [
    "### Python Hello World\n",
    "Simple enough, right?"
   ]
  },
  {
   "cell_type": "code",
   "execution_count": null,
   "metadata": {
    "collapsed": true
   },
   "outputs": [],
   "source": [
    "msg = 'Hello, Python!'\n",
    "print(msg)"
   ]
  },
  {
   "cell_type": "markdown",
   "metadata": {},
   "source": [
    "## Tensorflow"
   ]
  },
  {
   "cell_type": "markdown",
   "metadata": {},
   "source": [
    "### Import Tensorflow\n",
    "\"tf\" is an arbitrary name chosen to abbreviate code. You can use anything, so long as you are consistant."
   ]
  },
  {
   "cell_type": "code",
   "execution_count": 3,
   "metadata": {
    "collapsed": true
   },
   "outputs": [],
   "source": [
    "import tensorflow as tf"
   ]
  },
  {
   "cell_type": "markdown",
   "metadata": {},
   "source": [
    "### Tensorflow abstracts your flow\n",
    "In the python hello world, we just made a variable and printed it. However, in tensorflow we don't actually have access to anything beyond inputs and outputs. To demonstrate this, we define a constant \"msg\" containing the string value we want to be printed. We then evaluate \"msg\" in a tensorflow session (just resolving its value) and print the result.\n",
    "\n",
    "Is this redundant? Absolutely. In more complicated examples, we will need to do this so we can parallelize and scale well. Check out https://github.com/aymericdamien/TensorFlow-Examples for more examples."
   ]
  },
  {
   "cell_type": "code",
   "execution_count": 4,
   "metadata": {
    "collapsed": false
   },
   "outputs": [
    {
     "name": "stdout",
     "output_type": "stream",
     "text": [
      "b'Hello, TensorFlow!'\n"
     ]
    }
   ],
   "source": [
    "msg = tf.constant('Hello, TensorFlow!')\n",
    "\n",
    "sess = tf.Session()\n",
    "\n",
    "print(sess.run(msg))"
   ]
  },
  {
   "cell_type": "markdown",
   "metadata": {},
   "source": [
    "## Basic Neural Net\n",
    "See: https://github.com/aymericdamien/TensorFlow-Examples/blob/master/notebooks/3_NeuralNetworks/neural_network.ipynb"
   ]
  },
  {
   "cell_type": "code",
   "execution_count": null,
   "metadata": {
    "collapsed": true
   },
   "outputs": [],
   "source": []
  }
 ],
 "metadata": {
  "kernelspec": {
   "display_name": "Python 3",
   "language": "python",
   "name": "python3"
  },
  "language_info": {
   "codemirror_mode": {
    "name": "ipython",
    "version": 3
   },
   "file_extension": ".py",
   "mimetype": "text/x-python",
   "name": "python",
   "nbconvert_exporter": "python",
   "pygments_lexer": "ipython3",
   "version": "3.5.2"
  }
 },
 "nbformat": 4,
 "nbformat_minor": 2
}
